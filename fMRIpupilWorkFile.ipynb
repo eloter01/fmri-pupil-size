{
 "cells": [
  {
   "cell_type": "markdown",
   "id": "92e91137-43da-4173-9460-b355ca74eaa3",
   "metadata": {},
   "source": [
    "### get pupil and brain data for subjects in folders"
   ]
  },
  {
   "cell_type": "code",
   "execution_count": 33,
   "id": "99949d65-20f5-46c7-ac07-a6186675ee97",
   "metadata": {},
   "outputs": [],
   "source": [
    "import os\n",
    "import numpy as np\n",
    "import pandas as pd\n",
    "import nibabel as nb\n",
    "import fnmatch"
   ]
  },
  {
   "cell_type": "code",
   "execution_count": 61,
   "id": "b0021aec-2f6b-433c-9a8f-d52b86439457",
   "metadata": {},
   "outputs": [],
   "source": [
    "def get_brain_data(subject, session, scan):\n",
    "    ses7T = session[:-3] + '_7T_' + session[-2:]\n",
    "    sesP = session\n",
    "    \n",
    "    HCP_subj_results = HCP_data_dir + '/' + subject + '/MNINonLinear/Results'\n",
    "    pup_subj_results = HCP_data_dir + '/' + subject + '/unprocessed/7T'\n",
    "    \n",
    "    ts_file_name = HCP_subj_results + '/' + ses7T + '/' + ses7T + \\\n",
    "                   '_Atlas_MSMAll_hp2000_clean.dtseries.nii'\n",
    "    \n",
    "    ps_subj_dir = pup_subj_results + '/' + sesP + '/LINKED_DATA/EYETRACKER/'\n",
    "    pup_file_list = os.listdir(ps_subj_dir)\n",
    "    ps_file = fnmatch.filter(pup_file_list, '*asc')    \n",
    "    ps_file_name = ps_subj_dir + ps_file[0]\n",
    "   \n",
    "    file_size_ts = os.path.getsize(ts_file_name)  # some downloaded files are zero size - why??\n",
    "    file_size_ps = os.path.getsize(ps_file_name)  # some downloaded files are zero size - why??\n",
    "    \n",
    "    if file_size_ts == 0:\n",
    "        print('no valid brain data for ', subject, session)\n",
    "        return -1\n",
    "    \n",
    "    if file_size_ps == 0:\n",
    "        print('no valid brain data for ', subject, session)\n",
    "        return -1\n",
    "    \n",
    "    return ts_file_name, ps_file_name"
   ]
  },
  {
   "cell_type": "code",
   "execution_count": 3,
   "id": "a75a16ef-5c6c-41b4-8562-d770a33cc61f",
   "metadata": {},
   "outputs": [],
   "source": [
    "results_dir = '/home/el736/f_mc1689_1/ArousalFC/data/results'\n",
    "HCP_data_dir = '/home/el736/f_mc1689_1/ExternalDatasets/HCP'\n",
    "eye_ses_summary = pd.read_pickle(results_dir + '/group/good_eye_ses_summary')"
   ]
  },
  {
   "cell_type": "code",
   "execution_count": null,
   "id": "161ac883-1146-4f14-9abb-8b951c36c599",
   "metadata": {},
   "outputs": [],
   "source": [
    "ts_data = []\n",
    "ps_data = []\n",
    "\n",
    "for df_idx, df in eye_ses_summary.iterrows():\n",
    "    brain, pupil = get_brain_data(df.subject, df.session, df.scan)\n",
    "    ts_data.append(brain)\n",
    "    ps_data.append(pupil)"
   ]
  },
  {
   "cell_type": "markdown",
   "id": "4b88b268-12d0-43d9-9d3b-83304a0ba903",
   "metadata": {},
   "source": [
    "### export list of subject pupil data paths to csv"
   ]
  },
  {
   "cell_type": "code",
   "execution_count": 6,
   "id": "9d0fbdac-2b0b-4fa7-ad70-2b1760b8502b",
   "metadata": {},
   "outputs": [],
   "source": [
    "b_p_data = {'brain_paths': ts_data, 'pupil_paths': ps_data}\n",
    "subject_runs = pd.DataFrame(d)\n",
    "subject_runs.to_csv('subjects.csv', index=False)"
   ]
  }
 ],
 "metadata": {
  "kernelspec": {
   "display_name": "Python 3 (ipykernel)",
   "language": "python",
   "name": "python3"
  },
  "language_info": {
   "codemirror_mode": {
    "name": "ipython",
    "version": 3
   },
   "file_extension": ".py",
   "mimetype": "text/x-python",
   "name": "python",
   "nbconvert_exporter": "python",
   "pygments_lexer": "ipython3",
   "version": "3.9.12"
  }
 },
 "nbformat": 4,
 "nbformat_minor": 5
}
